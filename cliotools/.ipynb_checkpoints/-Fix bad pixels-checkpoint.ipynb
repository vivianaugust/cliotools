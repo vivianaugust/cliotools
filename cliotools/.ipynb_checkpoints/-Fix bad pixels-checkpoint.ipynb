{
 "cells": [
  {
   "cell_type": "code",
   "execution_count": null,
   "metadata": {},
   "outputs": [
    {
     "name": "stdout",
     "output_type": "stream",
     "text": [
      "Stacking reference images for  ...\n",
      "I found  10  images for Nod 0, and  10 images for Nod 1\n",
      "Highpassfilter Nod 0:\n"
     ]
    }
   ],
   "source": [
    "import warnings\n",
    "warnings.filterwarnings('ignore')\n",
    "from cliotools.pcaskysub import build_raw_stack, build_skysubbed_stack, mask, highpassfilter,\\\n",
    "    findbadpix, badpixfix, plot, pd, np\n",
    "# Make a stack of the raw images in the dataset: \n",
    "path = \"Data/HD_142415/\"\n",
    "\n",
    "k = pd.read_csv(path+'ABLocations.txt', \n",
    "                     sep = ',', # Commas separate items in the list\n",
    "                     comment = '#', # Ignore commented rows\n",
    "                     names=['filename', 'xca','yca', 'xcb', 'ycb'] # specify column names\n",
    "                    )\n",
    "stack0, stack1, xca0, yca0, xcb0, ycb0, xca1, yca1, xcb1, ycb1 = build_raw_stack(k)\n",
    "\n",
    "# High pass filter (unsharp mask) to remove spatial variation:\n",
    "print('Highpassfilter Nod 0:')\n",
    "hpf0 = highpassfilter(stack0) \n",
    "print('Highpassfilter Nod 1:')\n",
    "hpf1 = highpassfilter(stack1)\n",
    "# mask stars in each nod:\n",
    "print('Masking stars')\n",
    "masked0 = hpf0.copy()\n",
    "for i in range(stack0.shape[0]):\n",
    "    masked0[i,:,:] = mask(hpf0[i,:,:],[xca0[i],xcb0[i]],[yca0[i],ycb0[i]], radius = 80)\n",
    "masked1 = hpf1.copy()\n",
    "for i in range(stack1.shape[0]):\n",
    "    masked1[i,:,:] = mask(hpf1[i,:,:],[xca1[i],xcb1[i]],[yca1[i],ycb1[i]], radius = 80)\n",
    "\n",
    "print('Taking time-domain std dev')\n",
    "# Take standard deviation in time domain:\n",
    "std0 = np.nanstd(masked0, axis=0)\n",
    "std1 = np.nanstd(masked1, axis=0)"
   ]
  },
  {
   "cell_type": "code",
   "execution_count": null,
   "metadata": {},
   "outputs": [],
   "source": [
    "print('Find a chunk with no bad pixels:')\n",
    "# Find a chunk of image with no visible bad pixels:\n",
    "%matplotlib notebook\n",
    "plot(std1)"
   ]
  },
  {
   "cell_type": "code",
   "execution_count": null,
   "metadata": {},
   "outputs": [],
   "source": [
    "print('Find a chunk with no bad pixels:')\n",
    "# Find a chunk of image with no visible bad pixels:\n",
    "%matplotlib notebook\n",
    "plot(std0)"
   ]
  },
  {
   "cell_type": "code",
   "execution_count": null,
   "metadata": {
    "scrolled": true
   },
   "outputs": [],
   "source": [
    "xmin, xmax = 185,215\n",
    "ymin, ymax = 455,495\n",
    "chunk0 = std0[ymin:ymax,xmin:xmax]\n",
    "xmin, xmax = 315,352\n",
    "ymin, ymax = 218,250\n",
    "chunk1 = std1[ymin:ymax,xmin:xmax]\n",
    "\n",
    "# Make a bad pix map for each nod:\n",
    "print('Finding badpix')\n",
    "n = 3\n",
    "badpix0, badpixmap0 = findbadpix(std0, chunk0, n=n)\n",
    "badpix1, badpixmap1 = findbadpix(std1, chunk1, n=n)\n",
    "\n",
    "print('Opening skysubs')\n",
    "# Make a new stack of the skysubbtracted images to fix:\n",
    "images0,images1 = build_skysubbed_stack(k)\n",
    "print('Fixing bad pix')\n",
    "# Use the badpix index list to fix pixels in opposite nod:\n",
    "print('Nod1:')\n",
    "for i in range(10):\n",
    "    imfix1[i] = badpixfix(images1[i],badpix0[i],xca1[i], yca1[i], xcb1[i], ycb1[i])\n",
    "print('Nod0:')\n",
    "for i in range(10):\n",
    "    imfix0 = badpixfix(images0[i],badpix1[i], xca0[i], yca0[i], xcb0[i], ycb0[i])"
   ]
  },
  {
   "cell_type": "code",
   "execution_count": null,
   "metadata": {},
   "outputs": [],
   "source": [
    "%matplotlib notebook\n",
    "plot(imfix1[1])"
   ]
  },
  {
   "cell_type": "code",
   "execution_count": null,
   "metadata": {},
   "outputs": [],
   "source": [
    "# Spot healing: pixels that need to be fixed near stars that weren't caught by automatic pipeline:\n",
    "shx = [605,605,573,556,648,683,691,690,690,617,617,575,706,717,742,766,818,807,807,606,606,807,807,606,778,778,\\\n",
    "      779,779,570,570,617,617]\n",
    "shy = [152,150,118,149,158,125,125,108,107,37,36,68,4,2,4,67,108,318,317,152,150,137,136,149,116,115,\\\n",
    "      116,115,28,31,35,38]\n",
    "\n",
    "    \n",
    "imfix1_2 = badpixfix(imfix1,[shy,shx], xca1,yca1,xcb1,ycb1)\n",
    "%matplotlib notebook\n",
    "plot(imfix1_2[46])"
   ]
  },
  {
   "cell_type": "code",
   "execution_count": null,
   "metadata": {},
   "outputs": [],
   "source": [
    "# Check your work:\n",
    "%matplotlib notebook\n",
    "plot(imfix0[0])"
   ]
  },
  {
   "cell_type": "code",
   "execution_count": null,
   "metadata": {},
   "outputs": [],
   "source": [
    "# Spot healing: pixels that need to be fixed near stars that weren't caught by automatic pipeline:\n",
    "shx = [205,205,206,292]\n",
    "shy = [320,319,320,299]\n",
    "\n",
    "    \n",
    "imfix0_2 = badpixfix(imfix0,[shy,shx], xca0, yca0, xcb0, ycb0)\n",
    "%matplotlib notebook\n",
    "plot(imfix0_2[46])"
   ]
  },
  {
   "cell_type": "code",
   "execution_count": null,
   "metadata": {},
   "outputs": [],
   "source": [
    "# Write out fixed images:\n",
    "count0, count1 = 0,0\n",
    "from astropy.io import fits\n",
    "import time\n",
    "for i in range(len(k)):\n",
    "    sp = k['filename'][i].split(',')\n",
    "    filename = sp[0]\n",
    "    \n",
    "    imhdr = fits.getheader(filename)\n",
    "    imhdr['COMMENT'] = '    deep bad pixel corrected on '\\\n",
    "                           +time.strftime(\"%m/%d/%Y\")+ ' By Logan A. Pearce'\n",
    "    newname = (k['filename'][i]).split('_')[0]+'_'+(k['filename'][i]).split('_')[1]+'_ssbp.fit'\n",
    "    if imhdr['BEAM'] == 0:\n",
    "        print(newname, imhdr['BEAM'], count0)\n",
    "        fits.writeto(newname, imfix0_2[count0], imhdr, overwrite=True)\n",
    "        count0 += 1\n",
    "    if imhdr['BEAM'] == 1:\n",
    "        print(newname, imhdr['BEAM'], count1)\n",
    "        fits.writeto(newname, imfix1_2[count1], imhdr, overwrite=True)\n",
    "        count1 += 1\n",
    "    "
   ]
  },
  {
   "cell_type": "code",
   "execution_count": null,
   "metadata": {},
   "outputs": [],
   "source": [
    "# Finally, write out the list of sky subbed, bad pixel fixed, cleaned images:\n",
    "g = k.copy()\n",
    "for i in range(len(k)):\n",
    "    newname = (k['filename'][i]).split('_')[0]+'_'+(k['filename'][i]).split('_')[1]+'_ssbp.fit'\n",
    "    g['filename'][i] = newname\n",
    "g.to_csv(path+'CleanList', index=False)"
   ]
  },
  {
   "cell_type": "code",
   "execution_count": null,
   "metadata": {},
   "outputs": [],
   "source": [
    "m = pd.read_csv(path+'CleanList')\n",
    "m"
   ]
  },
  {
   "cell_type": "code",
   "execution_count": null,
   "metadata": {},
   "outputs": [],
   "source": []
  }
 ],
 "metadata": {
  "kernelspec": {
   "display_name": "Python 3 (ipykernel)",
   "language": "python",
   "name": "python3"
  },
  "language_info": {
   "codemirror_mode": {
    "name": "ipython",
    "version": 3
   },
   "file_extension": ".py",
   "mimetype": "text/x-python",
   "name": "python",
   "nbconvert_exporter": "python",
   "pygments_lexer": "ipython3",
   "version": "3.13.1"
  }
 },
 "nbformat": 4,
 "nbformat_minor": 4
}
